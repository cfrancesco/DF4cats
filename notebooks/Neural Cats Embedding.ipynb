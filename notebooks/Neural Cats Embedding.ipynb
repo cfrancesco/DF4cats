{
 "cells": [
  {
   "cell_type": "markdown",
   "metadata": {},
   "source": [
    "# Neural Cats Embeddings"
   ]
  },
  {
   "cell_type": "code",
   "execution_count": 1,
   "metadata": {},
   "outputs": [
    {
     "name": "stderr",
     "output_type": "stream",
     "text": [
      "Using TensorFlow backend.\n"
     ]
    }
   ],
   "source": [
    "import yaml\n",
    "import numpy as np\n",
    "import pandas as pd\n",
    "from pathlib import Path\n",
    "import sys\n",
    "sys.path.append('..')\n",
    "from df4cats.frames import CodedDF\n",
    "from df4cats.embedding.generators import SiameseGeneratorDF\n",
    "from df4cats.embedding.models import Siamese, Embedder\n",
    "from keras.callbacks import ModelCheckpoint, EarlyStopping, ReduceLROnPlateau, TensorBoard\n",
    "# %load_ext autoreload\n",
    "# %autoreload 2"
   ]
  },
  {
   "cell_type": "markdown",
   "metadata": {},
   "source": [
    "## Load the data\n",
    "### Load CSV"
   ]
  },
  {
   "cell_type": "code",
   "execution_count": 2,
   "metadata": {},
   "outputs": [
    {
     "name": "stderr",
     "output_type": "stream",
     "text": [
      "/Users/francesco.cardinale/anaconda3/envs/py36/lib/python3.6/site-packages/ipykernel_launcher.py:6: ParserWarning: Falling back to the 'python' engine because the 'c' engine does not support regex separators (separators > 1 char and different from '\\s+' are interpreted as regex); you can avoid this warning by specifying engine='python'.\n",
      "  \n"
     ]
    }
   ],
   "source": [
    "cols = ['age','workclass','fnlwgt','education','education-num','marital-status','occupation','relationship','race','sex','capital-gain','capital-loss','hours-per-week','native-country','income-class']\n",
    "sets = ['train', 'test']\n",
    "data = {}\n",
    "data_folder = Path('../sample_data/adult_income')\n",
    "for kind in sets:\n",
    "    data[kind] = pd.read_csv(data_folder / f'adult.{kind}', names=cols, sep=', ')\n",
    "    data[kind].replace('?', np.nan, inplace=True)"
   ]
  },
  {
   "cell_type": "markdown",
   "metadata": {},
   "source": [
    "### Create CodedDF\n",
    "- Encode and normalize train and test (validation) data.\n",
    "- Hardcode variables."
   ]
  },
  {
   "cell_type": "code",
   "execution_count": 3,
   "metadata": {},
   "outputs": [],
   "source": [
    "hard_cats = yaml.load(open(data_folder / 'adult.yaml', 'r'), Loader=yaml.FullLoader)\n",
    "cdf = {}\n",
    "cdf_hard = {}\n",
    "for kind in sets:\n",
    "    cdf[kind] = CodedDF(data[kind], categorical_columns=list(hard_cats), label_columns=['income-class'], normalize=True)\n",
    "    cdf_hard[kind] = cdf[kind].hardcode_categories(hard_cats, add_other=True, add_nan=True)\n",
    "    "
   ]
  },
  {
   "cell_type": "markdown",
   "metadata": {},
   "source": [
    "## Train embedder"
   ]
  },
  {
   "cell_type": "markdown",
   "metadata": {},
   "source": [
    "### Get generators"
   ]
  },
  {
   "cell_type": "code",
   "execution_count": 5,
   "metadata": {},
   "outputs": [],
   "source": [
    "dfgen = {}\n",
    "for kind in sets:\n",
    "    dfgen[kind] = SiameseGeneratorDF(X=cdf_hard[kind].data, y=cdf_hard[kind].data['income-class'], batch_size=20, columns=cdf_hard[kind].categorical_columns + cdf_hard[kind].continuous_columns)"
   ]
  },
  {
   "cell_type": "markdown",
   "metadata": {},
   "source": [
    "### Create Models"
   ]
  },
  {
   "cell_type": "code",
   "execution_count": 6,
   "metadata": {},
   "outputs": [
    {
     "name": "stdout",
     "output_type": "stream",
     "text": [
      "WARNING:tensorflow:From /Users/francesco.cardinale/anaconda3/envs/py36/lib/python3.6/site-packages/tensorflow-1.13.1-py3.6-macosx-10.7-x86_64.egg/tensorflow/python/framework/op_def_library.py:263: colocate_with (from tensorflow.python.framework.ops) is deprecated and will be removed in a future version.\n",
      "Instructions for updating:\n",
      "Colocations handled automatically by placer.\n",
      "WARNING:tensorflow:From /Users/francesco.cardinale/anaconda3/envs/py36/lib/python3.6/site-packages/keras/backend/tensorflow_backend.py:3445: calling dropout (from tensorflow.python.ops.nn_ops) with keep_prob is deprecated and will be removed in a future version.\n",
      "Instructions for updating:\n",
      "Please use `rate` instead of `keep_prob`. Rate should be set to `rate = 1 - keep_prob`.\n"
     ]
    },
    {
     "name": "stderr",
     "output_type": "stream",
     "text": [
      "/Users/francesco.cardinale/anaconda3/envs/py36/lib/python3.6/site-packages/keras/engine/saving.py:292: UserWarning: No training configuration found in save file: the model was *not* compiled. Compile it manually.\n",
      "  warnings.warn('No training configuration found in save file: '\n"
     ]
    }
   ],
   "source": [
    "embedder = Embedder(categorical_features= cdf_hard['train'].category_dimensions(),\n",
    "        continuous_features= cdf_hard['train'].continuous_columns,\n",
    "        n_dense=2,\n",
    "        nodes_per_dense=1000,\n",
    "        output_dim = 1000,\n",
    "        max_embedding_dim=600,\n",
    "        dropout_rate=0.2,\n",
    "        residual=False,)\n",
    "siamese = Siamese(embedder.model)\n",
    "siamese.joint.compile(optimizer='Adam', loss='binary_crossentropy')"
   ]
  },
  {
   "cell_type": "markdown",
   "metadata": {},
   "source": [
    "### Train models"
   ]
  },
  {
   "cell_type": "code",
   "execution_count": 7,
   "metadata": {},
   "outputs": [],
   "source": [
    "stopping = EarlyStopping(monitor='val_loss', patience=2, verbose=1, mode='min', restore_best_weights=True)\n",
    "lr_schedule = ReduceLROnPlateau(monitor='val_loss', factor=0.1, patience=0, mode='min', verbose=1)\n",
    "# tboard = TensorBoard(log_dir=str(data_folder))\n",
    "# checkpoint_val_loss = ModelCheckpoint(str(data_folder / 'siamese_weights_file_e{epoch:03d}-l{val_loss:.2f}.hdf5'),\n",
    "#             save_weights_only=True,\n",
    "#             verbose=True,\n",
    "#             save_best_only=True,\n",
    "#             monitor='val_loss',\n",
    "#             mode='min',\n",
    "#         )\n"
   ]
  },
  {
   "cell_type": "code",
   "execution_count": 8,
   "metadata": {
    "scrolled": true
   },
   "outputs": [
    {
     "name": "stdout",
     "output_type": "stream",
     "text": [
      "WARNING:tensorflow:From /Users/francesco.cardinale/anaconda3/envs/py36/lib/python3.6/site-packages/tensorflow-1.13.1-py3.6-macosx-10.7-x86_64.egg/tensorflow/python/ops/math_ops.py:3066: to_int32 (from tensorflow.python.ops.math_ops) is deprecated and will be removed in a future version.\n",
      "Instructions for updating:\n",
      "Use tf.cast instead.\n",
      "Epoch 1/35\n",
      "1628/1628 [==============================] - 41s 25ms/step - loss: 0.5776 - val_loss: 0.5575\n",
      "Epoch 2/35\n",
      "1628/1628 [==============================] - 42s 26ms/step - loss: 0.5497 - val_loss: 0.5612\n",
      "\n",
      "Epoch 00002: ReduceLROnPlateau reducing learning rate to 0.00010000000474974513.\n",
      "Epoch 3/35\n",
      "1628/1628 [==============================] - 41s 25ms/step - loss: 0.5366 - val_loss: 0.5392\n",
      "Epoch 4/35\n",
      "1628/1628 [==============================] - 41s 25ms/step - loss: 0.5328 - val_loss: 0.5365\n",
      "Epoch 5/35\n",
      "1628/1628 [==============================] - 41s 25ms/step - loss: 0.5294 - val_loss: 0.5338\n",
      "Epoch 6/35\n",
      "1628/1628 [==============================] - 41s 25ms/step - loss: 0.5286 - val_loss: 0.5359\n",
      "\n",
      "Epoch 00006: ReduceLROnPlateau reducing learning rate to 1.0000000474974514e-05.\n",
      "Epoch 7/35\n",
      "1628/1628 [==============================] - 40s 25ms/step - loss: 0.5291 - val_loss: 0.5352\n",
      "Restoring model weights from the end of the best epoch\n",
      "\n",
      "Epoch 00007: ReduceLROnPlateau reducing learning rate to 1.0000000656873453e-06.\n",
      "Epoch 00007: early stopping\n"
     ]
    },
    {
     "data": {
      "text/plain": [
       "<keras.callbacks.History at 0xb2b7a4710>"
      ]
     },
     "execution_count": 8,
     "metadata": {},
     "output_type": "execute_result"
    }
   ],
   "source": [
    "siamese.joint.fit_generator(generator=dfgen['train'], epochs=35, validation_data=dfgen['test'], callbacks=[stopping, lr_schedule])\n"
   ]
  },
  {
   "cell_type": "code",
   "execution_count": 10,
   "metadata": {},
   "outputs": [],
   "source": [
    "siamese.get_twin().save_weights(data_folder / 'embedder_weights_file.hdf5') ## CHECK IF LOADING IS NEEDED"
   ]
  },
  {
   "cell_type": "code",
   "execution_count": 11,
   "metadata": {},
   "outputs": [],
   "source": [
    "embed = embedder.get_embedding_model()"
   ]
  },
  {
   "cell_type": "code",
   "execution_count": 12,
   "metadata": {},
   "outputs": [],
   "source": [
    "embed.load_weights(data_folder / 'embedder_weights_file.hdf5', by_name=True)"
   ]
  },
  {
   "cell_type": "code",
   "execution_count": 13,
   "metadata": {},
   "outputs": [],
   "source": [
    "in_dict = embedder.get_input_dictionary(cdf['train'].data)\n",
    "pred = embed.predict(in_dict)"
   ]
  },
  {
   "cell_type": "code",
   "execution_count": 14,
   "metadata": {},
   "outputs": [
    {
     "data": {
      "text/html": [
       "<div>\n",
       "<style scoped>\n",
       "    .dataframe tbody tr th:only-of-type {\n",
       "        vertical-align: middle;\n",
       "    }\n",
       "\n",
       "    .dataframe tbody tr th {\n",
       "        vertical-align: top;\n",
       "    }\n",
       "\n",
       "    .dataframe thead th {\n",
       "        text-align: right;\n",
       "    }\n",
       "</style>\n",
       "<table border=\"1\" class=\"dataframe\">\n",
       "  <thead>\n",
       "    <tr style=\"text-align: right;\">\n",
       "      <th></th>\n",
       "      <th>workclass_emb_0</th>\n",
       "      <th>workclass_emb_1</th>\n",
       "      <th>workclass_emb_2</th>\n",
       "      <th>workclass_emb_3</th>\n",
       "      <th>workclass_emb_4</th>\n",
       "      <th>workclass_emb_5</th>\n",
       "      <th>education_emb_0</th>\n",
       "      <th>education_emb_1</th>\n",
       "      <th>education_emb_2</th>\n",
       "      <th>education_emb_3</th>\n",
       "      <th>...</th>\n",
       "      <th>native-country_emb_3</th>\n",
       "      <th>native-country_emb_4</th>\n",
       "      <th>native-country_emb_5</th>\n",
       "      <th>native-country_emb_6</th>\n",
       "      <th>native-country_emb_7</th>\n",
       "      <th>native-country_emb_8</th>\n",
       "      <th>native-country_emb_9</th>\n",
       "      <th>native-country_emb_10</th>\n",
       "      <th>native-country_emb_11</th>\n",
       "      <th>native-country_emb_12</th>\n",
       "    </tr>\n",
       "  </thead>\n",
       "  <tbody>\n",
       "    <tr>\n",
       "      <th>0</th>\n",
       "      <td>0.020849</td>\n",
       "      <td>0.093935</td>\n",
       "      <td>-0.062451</td>\n",
       "      <td>-0.046488</td>\n",
       "      <td>-0.014605</td>\n",
       "      <td>0.047912</td>\n",
       "      <td>-0.066307</td>\n",
       "      <td>0.000257</td>\n",
       "      <td>-0.050018</td>\n",
       "      <td>-0.090214</td>\n",
       "      <td>...</td>\n",
       "      <td>-0.000127</td>\n",
       "      <td>0.005007</td>\n",
       "      <td>-0.004072</td>\n",
       "      <td>-0.003681</td>\n",
       "      <td>-0.002837</td>\n",
       "      <td>0.001852</td>\n",
       "      <td>0.001243</td>\n",
       "      <td>-0.001648</td>\n",
       "      <td>0.002049</td>\n",
       "      <td>-0.008546</td>\n",
       "    </tr>\n",
       "    <tr>\n",
       "      <th>1</th>\n",
       "      <td>-0.101080</td>\n",
       "      <td>-0.120845</td>\n",
       "      <td>-0.076645</td>\n",
       "      <td>0.006551</td>\n",
       "      <td>-0.016419</td>\n",
       "      <td>0.030585</td>\n",
       "      <td>-0.066307</td>\n",
       "      <td>0.000257</td>\n",
       "      <td>-0.050018</td>\n",
       "      <td>-0.090214</td>\n",
       "      <td>...</td>\n",
       "      <td>-0.000127</td>\n",
       "      <td>0.005007</td>\n",
       "      <td>-0.004072</td>\n",
       "      <td>-0.003681</td>\n",
       "      <td>-0.002837</td>\n",
       "      <td>0.001852</td>\n",
       "      <td>0.001243</td>\n",
       "      <td>-0.001648</td>\n",
       "      <td>0.002049</td>\n",
       "      <td>-0.008546</td>\n",
       "    </tr>\n",
       "    <tr>\n",
       "      <th>2</th>\n",
       "      <td>0.114564</td>\n",
       "      <td>0.098814</td>\n",
       "      <td>-0.029882</td>\n",
       "      <td>0.031097</td>\n",
       "      <td>0.097797</td>\n",
       "      <td>-0.100882</td>\n",
       "      <td>0.020089</td>\n",
       "      <td>-0.023439</td>\n",
       "      <td>0.002053</td>\n",
       "      <td>0.010670</td>\n",
       "      <td>...</td>\n",
       "      <td>-0.000127</td>\n",
       "      <td>0.005007</td>\n",
       "      <td>-0.004072</td>\n",
       "      <td>-0.003681</td>\n",
       "      <td>-0.002837</td>\n",
       "      <td>0.001852</td>\n",
       "      <td>0.001243</td>\n",
       "      <td>-0.001648</td>\n",
       "      <td>0.002049</td>\n",
       "      <td>-0.008546</td>\n",
       "    </tr>\n",
       "    <tr>\n",
       "      <th>3</th>\n",
       "      <td>0.114564</td>\n",
       "      <td>0.098814</td>\n",
       "      <td>-0.029882</td>\n",
       "      <td>0.031097</td>\n",
       "      <td>0.097797</td>\n",
       "      <td>-0.100882</td>\n",
       "      <td>-0.056337</td>\n",
       "      <td>0.073852</td>\n",
       "      <td>-0.071254</td>\n",
       "      <td>-0.066528</td>\n",
       "      <td>...</td>\n",
       "      <td>-0.000127</td>\n",
       "      <td>0.005007</td>\n",
       "      <td>-0.004072</td>\n",
       "      <td>-0.003681</td>\n",
       "      <td>-0.002837</td>\n",
       "      <td>0.001852</td>\n",
       "      <td>0.001243</td>\n",
       "      <td>-0.001648</td>\n",
       "      <td>0.002049</td>\n",
       "      <td>-0.008546</td>\n",
       "    </tr>\n",
       "    <tr>\n",
       "      <th>4</th>\n",
       "      <td>0.114564</td>\n",
       "      <td>0.098814</td>\n",
       "      <td>-0.029882</td>\n",
       "      <td>0.031097</td>\n",
       "      <td>0.097797</td>\n",
       "      <td>-0.100882</td>\n",
       "      <td>-0.066307</td>\n",
       "      <td>0.000257</td>\n",
       "      <td>-0.050018</td>\n",
       "      <td>-0.090214</td>\n",
       "      <td>...</td>\n",
       "      <td>-0.134608</td>\n",
       "      <td>-0.061590</td>\n",
       "      <td>-0.019102</td>\n",
       "      <td>-0.000083</td>\n",
       "      <td>0.205481</td>\n",
       "      <td>-0.042845</td>\n",
       "      <td>0.080238</td>\n",
       "      <td>0.044077</td>\n",
       "      <td>-0.086110</td>\n",
       "      <td>0.019458</td>\n",
       "    </tr>\n",
       "  </tbody>\n",
       "</table>\n",
       "<p>5 rows × 53 columns</p>\n",
       "</div>"
      ],
      "text/plain": [
       "   workclass_emb_0  workclass_emb_1  workclass_emb_2  workclass_emb_3  \\\n",
       "0         0.020849         0.093935        -0.062451        -0.046488   \n",
       "1        -0.101080        -0.120845        -0.076645         0.006551   \n",
       "2         0.114564         0.098814        -0.029882         0.031097   \n",
       "3         0.114564         0.098814        -0.029882         0.031097   \n",
       "4         0.114564         0.098814        -0.029882         0.031097   \n",
       "\n",
       "   workclass_emb_4  workclass_emb_5  education_emb_0  education_emb_1  \\\n",
       "0        -0.014605         0.047912        -0.066307         0.000257   \n",
       "1        -0.016419         0.030585        -0.066307         0.000257   \n",
       "2         0.097797        -0.100882         0.020089        -0.023439   \n",
       "3         0.097797        -0.100882        -0.056337         0.073852   \n",
       "4         0.097797        -0.100882        -0.066307         0.000257   \n",
       "\n",
       "   education_emb_2  education_emb_3  ...  native-country_emb_3  \\\n",
       "0        -0.050018        -0.090214  ...             -0.000127   \n",
       "1        -0.050018        -0.090214  ...             -0.000127   \n",
       "2         0.002053         0.010670  ...             -0.000127   \n",
       "3        -0.071254        -0.066528  ...             -0.000127   \n",
       "4        -0.050018        -0.090214  ...             -0.134608   \n",
       "\n",
       "   native-country_emb_4  native-country_emb_5  native-country_emb_6  \\\n",
       "0              0.005007             -0.004072             -0.003681   \n",
       "1              0.005007             -0.004072             -0.003681   \n",
       "2              0.005007             -0.004072             -0.003681   \n",
       "3              0.005007             -0.004072             -0.003681   \n",
       "4             -0.061590             -0.019102             -0.000083   \n",
       "\n",
       "   native-country_emb_7  native-country_emb_8  native-country_emb_9  \\\n",
       "0             -0.002837              0.001852              0.001243   \n",
       "1             -0.002837              0.001852              0.001243   \n",
       "2             -0.002837              0.001852              0.001243   \n",
       "3             -0.002837              0.001852              0.001243   \n",
       "4              0.205481             -0.042845              0.080238   \n",
       "\n",
       "   native-country_emb_10  native-country_emb_11  native-country_emb_12  \n",
       "0              -0.001648               0.002049              -0.008546  \n",
       "1              -0.001648               0.002049              -0.008546  \n",
       "2              -0.001648               0.002049              -0.008546  \n",
       "3              -0.001648               0.002049              -0.008546  \n",
       "4               0.044077              -0.086110               0.019458  \n",
       "\n",
       "[5 rows x 53 columns]"
      ]
     },
     "execution_count": 14,
     "metadata": {},
     "output_type": "execute_result"
    }
   ],
   "source": [
    "embedder.predictions_to_df(pred).head(5)"
   ]
  },
  {
   "cell_type": "markdown",
   "metadata": {},
   "source": [
    "## Extra: get embeddings for each category, plot 3D embeddings"
   ]
  },
  {
   "cell_type": "code",
   "execution_count": 15,
   "metadata": {},
   "outputs": [],
   "source": [
    "from keras.models import Model\n",
    "category_embeddings = {}\n",
    "for cat in embedder.categorical_features:\n",
    "    inp = embed.get_layer(cat)\n",
    "    out = embed.get_layer(f'{cat}_flat_emb')\n",
    "    category_embeddings[cat] = Model(inputs=inp.input, outputs=out.output)"
   ]
  },
  {
   "cell_type": "code",
   "execution_count": 16,
   "metadata": {},
   "outputs": [],
   "source": [
    "maps = {}\n",
    "for cat in embedder.categorical_features:\n",
    "    maps[cat] = {}\n",
    "    for v in range(embedder.categorical_features[cat]):\n",
    "        value = cdf['train'].categorical_mapping[cat].inverse_mapping[v]\n",
    "        maps[cat][value] = category_embeddings[cat].predict([v])[0]"
   ]
  },
  {
   "cell_type": "code",
   "execution_count": 104,
   "metadata": {
    "scrolled": false
   },
   "outputs": [],
   "source": [
    "from mpl_toolkits.mplot3d import Axes3D\n",
    "%matplotlib qt\n",
    "\n",
    "import matplotlib.pyplot as plt\n",
    "for cat in embedder.categorical_features:\n",
    "    fig = plt.figure()\n",
    "    ax = fig.add_subplot(111, projection='3d')\n",
    "\n",
    "    for el in maps[cat]:\n",
    "        point = maps[cat][el]\n",
    "        ax.scatter(point[0], point[1], point[2], label=el)\n",
    "        ax.text(point[0], point[1], point[2],  '%s' % (el), size=8, zorder=1, color='k') \n",
    "    plt.show()"
   ]
  }
 ],
 "metadata": {
  "kernelspec": {
   "display_name": "Python (py36)",
   "language": "python",
   "name": "myenv"
  },
  "language_info": {
   "codemirror_mode": {
    "name": "ipython",
    "version": 3
   },
   "file_extension": ".py",
   "mimetype": "text/x-python",
   "name": "python",
   "nbconvert_exporter": "python",
   "pygments_lexer": "ipython3",
   "version": "3.6.8"
  }
 },
 "nbformat": 4,
 "nbformat_minor": 2
}
